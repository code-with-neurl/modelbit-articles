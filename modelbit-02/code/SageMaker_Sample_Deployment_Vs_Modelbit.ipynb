{
  "cells": [
    {
      "cell_type": "markdown",
      "id": "7zKmfn8npMbx",
      "metadata": {
        "id": "7zKmfn8npMbx"
      },
      "source": [
        "<div align=\"center\" dir=\"auto\">\n",
        "<p dir=\"auto\">\n",
        "\n",
        "<a href=\"https://colab.research.google.com/github/write-with-neurl/modelbit-articles/blob/main/modelbit-02/code/SageMaker_Sample_Deployment_Vs_Modelbit.ipynb\" target=\"_parent\"><img src=\"https://colab.research.google.com/assets/colab-badge.svg\" alt=\"Open In Colab\"/></a>\n",
        "\n",
        "</p>"
      ]
    },
    {
      "cell_type": "markdown",
      "id": "lDdVvIprqGXM",
      "metadata": {
        "id": "lDdVvIprqGXM"
      },
      "source": [
        "## 🚀 Comparative Analysis: Deploying a model with Modelbit vs with SageMaker"
      ]
    },
    {
      "cell_type": "code",
      "execution_count": null,
      "id": "c615a7f9",
      "metadata": {
        "id": "c615a7f9"
      },
      "outputs": [],
      "source": [
        "\"\"\"import the necessary libraries\"\"\"\n",
        "\n",
        "import os\n",
        "import sys\n",
        "import json\n",
        "import boto3\n",
        "import sagemaker\n",
        "from sagemaker import get_execution_role\n",
        "from sagemaker import image_uris\n",
        "import pandas as pd\n",
        "from sklearn.model_selection import train_test_split\n",
        "import numpy as np"
      ]
    },
    {
      "cell_type": "markdown",
      "id": "gxYY7xPGtOCZ",
      "metadata": {
        "id": "gxYY7xPGtOCZ"
      },
      "source": [
        "Create your **AWS SageMaker session** and initialize the **IAM execution role**:"
      ]
    },
    {
      "cell_type": "code",
      "execution_count": null,
      "id": "243f2448",
      "metadata": {
        "id": "243f2448"
      },
      "outputs": [],
      "source": [
        "session=sagemaker.Session()\n",
        "role=get_execution_role()"
      ]
    },
    {
      "cell_type": "markdown",
      "id": "WVx3gTR7tU0g",
      "metadata": {
        "id": "WVx3gTR7tU0g"
      },
      "source": [
        "Download the data from your S3 location. For this, you can use the AWS SDK for Python and Boto3:"
      ]
    },
    {
      "cell_type": "code",
      "execution_count": null,
      "id": "0769937e",
      "metadata": {
        "id": "0769937e"
      },
      "outputs": [],
      "source": [
        "s3=boto3.client(\"s3\")\n",
        "s3.download_file('sagemaker-poc-bucket-12345', 'diabetes_data.csv', 'diabetes_data.csv')"
      ]
    },
    {
      "cell_type": "markdown",
      "id": "WXhjifl9tlGb",
      "metadata": {
        "id": "WXhjifl9tlGb"
      },
      "source": [
        "In the code snippet provided, the objective is to retrieve the `diabetes_data.csv` file from the \"**SageMaker-poc-bucket-12345**\" bucket and save it locally with the same name, \"diabetes_data.csv.\""
      ]
    },
    {
      "cell_type": "markdown",
      "id": "7496f817",
      "metadata": {
        "id": "7496f817"
      },
      "source": [
        "## 🛢️ Loading The Dataset"
      ]
    },
    {
      "cell_type": "markdown",
      "id": "uY5SFYx0txbU",
      "metadata": {
        "id": "uY5SFYx0txbU"
      },
      "source": [
        "Load your dataset into the dev environment using Pandas:"
      ]
    },
    {
      "cell_type": "code",
      "execution_count": null,
      "id": "b07f2c30",
      "metadata": {
        "id": "b07f2c30",
        "outputId": "697e6455-eb24-463f-8457-a758dfad8595"
      },
      "outputs": [
        {
          "data": {
            "text/html": [
              "<div>\n",
              "<style scoped>\n",
              "    .dataframe tbody tr th:only-of-type {\n",
              "        vertical-align: middle;\n",
              "    }\n",
              "\n",
              "    .dataframe tbody tr th {\n",
              "        vertical-align: top;\n",
              "    }\n",
              "\n",
              "    .dataframe thead th {\n",
              "        text-align: right;\n",
              "    }\n",
              "</style>\n",
              "<table border=\"1\" class=\"dataframe\">\n",
              "  <thead>\n",
              "    <tr style=\"text-align: right;\">\n",
              "      <th></th>\n",
              "      <th>Diabetes_binary</th>\n",
              "      <th>HighBP</th>\n",
              "      <th>HighChol</th>\n",
              "      <th>CholCheck</th>\n",
              "      <th>BMI</th>\n",
              "      <th>Smoker</th>\n",
              "      <th>Stroke</th>\n",
              "      <th>HeartDiseaseorAttack</th>\n",
              "      <th>PhysActivity</th>\n",
              "      <th>Fruits</th>\n",
              "      <th>Veggies</th>\n",
              "      <th>HvyAlcoholConsump</th>\n",
              "      <th>AnyHealthcare</th>\n",
              "      <th>NoDocbcCost</th>\n",
              "      <th>GenHlth</th>\n",
              "      <th>MentHlth</th>\n",
              "      <th>PhysHlth</th>\n",
              "      <th>DiffWalk</th>\n",
              "      <th>Sex</th>\n",
              "      <th>Age</th>\n",
              "      <th>Education</th>\n",
              "      <th>Income</th>\n",
              "    </tr>\n",
              "  </thead>\n",
              "  <tbody>\n",
              "    <tr>\n",
              "      <th>0</th>\n",
              "      <td>0.0</td>\n",
              "      <td>1.0</td>\n",
              "      <td>0.0</td>\n",
              "      <td>1.0</td>\n",
              "      <td>26.0</td>\n",
              "      <td>0.0</td>\n",
              "      <td>0.0</td>\n",
              "      <td>0.0</td>\n",
              "      <td>1.0</td>\n",
              "      <td>0.0</td>\n",
              "      <td>1.0</td>\n",
              "      <td>0.0</td>\n",
              "      <td>1.0</td>\n",
              "      <td>0.0</td>\n",
              "      <td>3.0</td>\n",
              "      <td>5.0</td>\n",
              "      <td>30.0</td>\n",
              "      <td>0.0</td>\n",
              "      <td>1.0</td>\n",
              "      <td>4.0</td>\n",
              "      <td>6.0</td>\n",
              "      <td>8.0</td>\n",
              "    </tr>\n",
              "    <tr>\n",
              "      <th>1</th>\n",
              "      <td>0.0</td>\n",
              "      <td>1.0</td>\n",
              "      <td>1.0</td>\n",
              "      <td>1.0</td>\n",
              "      <td>26.0</td>\n",
              "      <td>1.0</td>\n",
              "      <td>1.0</td>\n",
              "      <td>0.0</td>\n",
              "      <td>0.0</td>\n",
              "      <td>1.0</td>\n",
              "      <td>0.0</td>\n",
              "      <td>0.0</td>\n",
              "      <td>1.0</td>\n",
              "      <td>0.0</td>\n",
              "      <td>3.0</td>\n",
              "      <td>0.0</td>\n",
              "      <td>0.0</td>\n",
              "      <td>0.0</td>\n",
              "      <td>1.0</td>\n",
              "      <td>12.0</td>\n",
              "      <td>6.0</td>\n",
              "      <td>8.0</td>\n",
              "    </tr>\n",
              "    <tr>\n",
              "      <th>2</th>\n",
              "      <td>0.0</td>\n",
              "      <td>0.0</td>\n",
              "      <td>0.0</td>\n",
              "      <td>1.0</td>\n",
              "      <td>26.0</td>\n",
              "      <td>0.0</td>\n",
              "      <td>0.0</td>\n",
              "      <td>0.0</td>\n",
              "      <td>1.0</td>\n",
              "      <td>1.0</td>\n",
              "      <td>1.0</td>\n",
              "      <td>0.0</td>\n",
              "      <td>1.0</td>\n",
              "      <td>0.0</td>\n",
              "      <td>1.0</td>\n",
              "      <td>0.0</td>\n",
              "      <td>10.0</td>\n",
              "      <td>0.0</td>\n",
              "      <td>1.0</td>\n",
              "      <td>13.0</td>\n",
              "      <td>6.0</td>\n",
              "      <td>8.0</td>\n",
              "    </tr>\n",
              "    <tr>\n",
              "      <th>3</th>\n",
              "      <td>0.0</td>\n",
              "      <td>1.0</td>\n",
              "      <td>1.0</td>\n",
              "      <td>1.0</td>\n",
              "      <td>28.0</td>\n",
              "      <td>1.0</td>\n",
              "      <td>0.0</td>\n",
              "      <td>0.0</td>\n",
              "      <td>1.0</td>\n",
              "      <td>1.0</td>\n",
              "      <td>1.0</td>\n",
              "      <td>0.0</td>\n",
              "      <td>1.0</td>\n",
              "      <td>0.0</td>\n",
              "      <td>3.0</td>\n",
              "      <td>0.0</td>\n",
              "      <td>3.0</td>\n",
              "      <td>0.0</td>\n",
              "      <td>1.0</td>\n",
              "      <td>11.0</td>\n",
              "      <td>6.0</td>\n",
              "      <td>8.0</td>\n",
              "    </tr>\n",
              "    <tr>\n",
              "      <th>4</th>\n",
              "      <td>0.0</td>\n",
              "      <td>0.0</td>\n",
              "      <td>0.0</td>\n",
              "      <td>1.0</td>\n",
              "      <td>29.0</td>\n",
              "      <td>1.0</td>\n",
              "      <td>0.0</td>\n",
              "      <td>0.0</td>\n",
              "      <td>1.0</td>\n",
              "      <td>1.0</td>\n",
              "      <td>1.0</td>\n",
              "      <td>0.0</td>\n",
              "      <td>1.0</td>\n",
              "      <td>0.0</td>\n",
              "      <td>2.0</td>\n",
              "      <td>0.0</td>\n",
              "      <td>0.0</td>\n",
              "      <td>0.0</td>\n",
              "      <td>0.0</td>\n",
              "      <td>8.0</td>\n",
              "      <td>5.0</td>\n",
              "      <td>8.0</td>\n",
              "    </tr>\n",
              "  </tbody>\n",
              "</table>\n",
              "</div>"
            ],
            "text/plain": [
              "   Diabetes_binary  HighBP  HighChol  CholCheck  ...  Sex   Age  Education  Income\n",
              "0              0.0     1.0       0.0        1.0  ...  1.0   4.0        6.0     8.0\n",
              "1              0.0     1.0       1.0        1.0  ...  1.0  12.0        6.0     8.0\n",
              "2              0.0     0.0       0.0        1.0  ...  1.0  13.0        6.0     8.0\n",
              "3              0.0     1.0       1.0        1.0  ...  1.0  11.0        6.0     8.0\n",
              "4              0.0     0.0       0.0        1.0  ...  0.0   8.0        5.0     8.0\n",
              "\n",
              "[5 rows x 22 columns]"
            ]
          },
          "execution_count": 15,
          "metadata": {},
          "output_type": "execute_result"
        }
      ],
      "source": [
        "diabetes_dataset=pd.read_csv(\"diabetes_data.csv\")\n",
        "diabetes_dataset.head()"
      ]
    },
    {
      "cell_type": "markdown",
      "id": "i63DLYWjuzNm",
      "metadata": {
        "id": "i63DLYWjuzNm"
      },
      "source": [
        "Select the relevant columns from the dataset and eliminate any rows with missing values."
      ]
    },
    {
      "cell_type": "code",
      "execution_count": null,
      "id": "c6a1d3dc",
      "metadata": {
        "id": "c6a1d3dc"
      },
      "outputs": [],
      "source": [
        "# Select specific columns\n",
        "diabetes_selected = diabetes_dataset[['HighBP','HighChol','Smoker','Age','Sex','BMI','Fruits','HvyAlcoholConsump','HeartDiseaseorAttack','PhysActivity','Diabetes_binary']].dropna()\n"
      ]
    },
    {
      "cell_type": "markdown",
      "id": "b-zAcKiKu6SQ",
      "metadata": {
        "id": "b-zAcKiKu6SQ"
      },
      "source": [
        "Partition the data into three distinct subsets: training, validation, and test sets. These subsets will be saved as separate CSV files in your local environment:"
      ]
    },
    {
      "cell_type": "code",
      "execution_count": null,
      "id": "af4138af",
      "metadata": {
        "id": "af4138af"
      },
      "outputs": [],
      "source": [
        "train,validation,test=np.split(diabetes_selected.sample(frac=1,random_state=52),[int(0.7*len(diabetes_dataset)),int(0.9*len(diabetes_dataset))])\n",
        "\n",
        "train.to_csv(\"train.csv\",index=False,header=False)\n",
        "validation.to_csv(\"validation.csv\",index=False,header=False)\n",
        "test.to_csv(\"test.csv\",index=False,header=False)"
      ]
    },
    {
      "cell_type": "markdown",
      "id": "f1973e55",
      "metadata": {
        "id": "f1973e55"
      },
      "source": [
        "## 👟 Training the Model"
      ]
    },
    {
      "cell_type": "code",
      "execution_count": null,
      "id": "7a7f8dbc",
      "metadata": {
        "id": "7a7f8dbc"
      },
      "outputs": [],
      "source": [
        "container=image_uris.retrieve(\"xgboost\",region=\"us-east-1\",version=\"latest\")"
      ]
    },
    {
      "cell_type": "markdown",
      "id": "l8gNJPipvbn9",
      "metadata": {
        "id": "l8gNJPipvbn9"
      },
      "source": [
        "Amazon SageMaker provides a default S3 bucket to access using `SageMaker.Session().default_bucket()`. To streamline the process, use the following code block to upload the CSV files you downloaded locally in your Jupyter instance to this default bucket. This step is essential for making the data accessible within the SageMaker environment."
      ]
    },
    {
      "cell_type": "code",
      "execution_count": null,
      "id": "f156787d",
      "metadata": {
        "id": "f156787d",
        "outputId": "3e740387-e9e0-4240-ad0d-266d4801a686"
      },
      "outputs": [
        {
          "name": "stderr",
          "output_type": "stream",
          "text": [
            "INFO:botocore.credentials:Found credentials from IAM Role: BaseNotebookInstanceEc2InstanceRole\n",
            "INFO:botocore.credentials:Found credentials from IAM Role: BaseNotebookInstanceEc2InstanceRole\n",
            "INFO:botocore.credentials:Found credentials from IAM Role: BaseNotebookInstanceEc2InstanceRole\n"
          ]
        }
      ],
      "source": [
        "bucket=sagemaker.Session().default_bucket()\n",
        "boto3.Session().resource(\"s3\").Bucket(bucket).Object(\"train/train.csv\").upload_file(\"train.csv\")\n",
        "boto3.Session().resource(\"s3\").Bucket(bucket).Object(\"validation/validation.csv\").upload_file(\"validation.csv\")\n",
        "boto3.Session().resource(\"s3\").Bucket(bucket).Object(\"test/test.csv\").upload_file(\"test.csv\")"
      ]
    },
    {
      "cell_type": "code",
      "execution_count": null,
      "id": "bdca7964",
      "metadata": {
        "id": "bdca7964"
      },
      "outputs": [],
      "source": [
        "input_train=sagemaker.inputs.TrainingInput(s3_data=f\"s3://{bucket}/train\",content_type=\"csv\")\n",
        "input_validation=sagemaker.inputs.TrainingInput(s3_data=f\"s3://{bucket}/validation\",content_type=\"csv\")"
      ]
    },
    {
      "cell_type": "markdown",
      "id": "Zt4sBtj6vw7e",
      "metadata": {
        "id": "Zt4sBtj6vw7e"
      },
      "source": [
        "With the data successfully uploaded to the default S3 bucket, the next step is to train your model and fine-tune the parameters of XGBoost."
      ]
    },
    {
      "cell_type": "code",
      "execution_count": null,
      "id": "ece03f41",
      "metadata": {
        "id": "ece03f41",
        "outputId": "e43bf17f-f3ec-4474-9ed1-8d2d74d37fb1"
      },
      "outputs": [
        {
          "name": "stderr",
          "output_type": "stream",
          "text": [
            "WARNING:sagemaker.interactive_apps.base_interactive_app:NOTEBOOK_METADATA_FILE detected but failed to get valid domain and user from it.\n"
          ]
        }
      ],
      "source": [
        "xgb=sagemaker.estimator.Estimator(container,role,instance_count=1,instance_type=\"ml.m4.xlarge\",\n",
        "                                 output_path=f\"s3://{bucket}/output\",sagemaker_session=session)\n",
        "xgb.set_hyperparameters(max_depth=3,\n",
        "                       eta=0.2,\n",
        "                       gamma=5,\n",
        "                       min_child_weight=5,\n",
        "                       sub_sample=0.8,\n",
        "                       silent=0,\n",
        "                       objective=\"binary:logistic\",\n",
        "                       num_round=100)"
      ]
    },
    {
      "cell_type": "code",
      "execution_count": null,
      "id": "4ccbedce",
      "metadata": {
        "id": "4ccbedce",
        "outputId": "4845b3e7-6623-4a89-e8d7-786723cadf8e"
      },
      "outputs": [
        {
          "name": "stderr",
          "output_type": "stream",
          "text": [
            "INFO:sagemaker:Creating training-job with name: xgboost-2023-10-05-13-26-14-627\n"
          ]
        },
        {
          "name": "stdout",
          "output_type": "stream",
          "text": [
            "2023-10-05 13:26:14 Starting - Starting the training job...\n",
            "2023-10-05 13:26:39 Starting - Preparing the instances for training.........\n",
            "2023-10-05 13:27:52 Downloading - Downloading input data...\n",
            "2023-10-05 13:28:22 Training - Downloading the training image...\n",
            "2023-10-05 13:29:13 Training - Training image download completed. Training in progress...\u001b[34mArguments: train\u001b[0m\n",
            "\u001b[34m[2023-10-05:13:29:24:INFO] Running standalone xgboost training.\u001b[0m\n",
            "\u001b[34m[2023-10-05:13:29:24:INFO] File size need to be processed in the node: 2.76mb. Available memory size in the node: 8536.14mb\u001b[0m\n",
            "\u001b[34m[2023-10-05:13:29:24:INFO] Determined delimiter of CSV input is ','\u001b[0m\n",
            "\u001b[34m[13:29:24] S3DistributionType set as FullyReplicated\u001b[0m\n",
            "\u001b[34m[13:29:24] 49484x10 matrix with 494840 entries loaded from /opt/ml/input/data/train?format=csv&label_column=0&delimiter=,\u001b[0m\n",
            "\u001b[34m[2023-10-05:13:29:24:INFO] Determined delimiter of CSV input is ','\u001b[0m\n",
            "\u001b[34m[13:29:24] S3DistributionType set as FullyReplicated\u001b[0m\n",
            "\u001b[34m[13:29:24] 14138x10 matrix with 141380 entries loaded from /opt/ml/input/data/validation?format=csv&label_column=0&delimiter=,\u001b[0m\n",
            "\u001b[34m[13:29:24] src/tree/updater_prune.cc:74: tree pruning end, 1 roots, 14 extra nodes, 0 pruned nodes, max_depth=3\u001b[0m\n",
            "\u001b[34m[0]#011train-error:0.279525#011validation-error:0.276701\u001b[0m\n",
            "\u001b[34m[13:29:24] src/tree/updater_prune.cc:74: tree pruning end, 1 roots, 14 extra nodes, 0 pruned nodes, max_depth=3\u001b[0m\n",
            "\u001b[34m[1]#011train-error:0.27712#011validation-error:0.276277\u001b[0m\n",
            "\u001b[34m[13:29:24] src/tree/updater_prune.cc:74: tree pruning end, 1 roots, 14 extra nodes, 0 pruned nodes, max_depth=3\u001b[0m\n",
            "\u001b[34m[2]#011train-error:0.278049#011validation-error:0.276984\u001b[0m\n",
            "\u001b[34m[13:29:24] src/tree/updater_prune.cc:74: tree pruning end, 1 roots, 14 extra nodes, 0 pruned nodes, max_depth=3\u001b[0m\n",
            "\u001b[34m[3]#011train-error:0.277261#011validation-error:0.273306\u001b[0m\n",
            "\u001b[34m[13:29:24] src/tree/updater_prune.cc:74: tree pruning end, 1 roots, 14 extra nodes, 0 pruned nodes, max_depth=3\u001b[0m\n",
            "\u001b[34m[4]#011train-error:0.272492#011validation-error:0.269416\u001b[0m\n",
            "\u001b[34m[13:29:24] src/tree/updater_prune.cc:74: tree pruning end, 1 roots, 14 extra nodes, 0 pruned nodes, max_depth=3\u001b[0m\n",
            "\u001b[34m[5]#011train-error:0.267682#011validation-error:0.265738\u001b[0m\n",
            "\u001b[34m[13:29:24] src/tree/updater_prune.cc:74: tree pruning end, 1 roots, 14 extra nodes, 0 pruned nodes, max_depth=3\u001b[0m\n",
            "\u001b[34m[6]#011train-error:0.267784#011validation-error:0.26305\u001b[0m\n",
            "\u001b[34m[13:29:24] src/tree/updater_prune.cc:74: tree pruning end, 1 roots, 14 extra nodes, 0 pruned nodes, max_depth=3\u001b[0m\n",
            "\u001b[34m[7]#011train-error:0.266187#011validation-error:0.264182\u001b[0m\n",
            "\u001b[34m[13:29:24] src/tree/updater_prune.cc:74: tree pruning end, 1 roots, 14 extra nodes, 0 pruned nodes, max_depth=3\u001b[0m\n",
            "\u001b[34m[8]#011train-error:0.26554#011validation-error:0.263191\u001b[0m\n",
            "\u001b[34m[13:29:24] src/tree/updater_prune.cc:74: tree pruning end, 1 roots, 14 extra nodes, 0 pruned nodes, max_depth=3\u001b[0m\n",
            "\u001b[34m[9]#011train-error:0.266025#011validation-error:0.263757\u001b[0m\n",
            "\u001b[34m[13:29:24] src/tree/updater_prune.cc:74: tree pruning end, 1 roots, 14 extra nodes, 0 pruned nodes, max_depth=3\u001b[0m\n",
            "\u001b[34m[10]#011train-error:0.265924#011validation-error:0.263687\u001b[0m\n",
            "\u001b[34m[13:29:24] src/tree/updater_prune.cc:74: tree pruning end, 1 roots, 14 extra nodes, 0 pruned nodes, max_depth=3\u001b[0m\n",
            "\u001b[34m[11]#011train-error:0.26453#011validation-error:0.262201\u001b[0m\n",
            "\u001b[34m[13:29:24] src/tree/updater_prune.cc:74: tree pruning end, 1 roots, 14 extra nodes, 0 pruned nodes, max_depth=3\u001b[0m\n",
            "\u001b[34m[12]#011train-error:0.264449#011validation-error:0.261635\u001b[0m\n",
            "\u001b[34m[13:29:24] src/tree/updater_prune.cc:74: tree pruning end, 1 roots, 14 extra nodes, 0 pruned nodes, max_depth=3\u001b[0m\n",
            "\u001b[34m[13]#011train-error:0.263802#011validation-error:0.260645\u001b[0m\n",
            "\u001b[34m[13:29:24] src/tree/updater_prune.cc:74: tree pruning end, 1 roots, 14 extra nodes, 0 pruned nodes, max_depth=3\u001b[0m\n",
            "\u001b[34m[14]#011train-error:0.263883#011validation-error:0.261423\u001b[0m\n",
            "\u001b[34m[13:29:24] src/tree/updater_prune.cc:74: tree pruning end, 1 roots, 12 extra nodes, 2 pruned nodes, max_depth=3\u001b[0m\n",
            "\u001b[34m[15]#011train-error:0.262913#011validation-error:0.260999\u001b[0m\n",
            "\u001b[34m[13:29:24] src/tree/updater_prune.cc:74: tree pruning end, 1 roots, 14 extra nodes, 0 pruned nodes, max_depth=3\u001b[0m\n",
            "\u001b[34m[16]#011train-error:0.263196#011validation-error:0.260079\u001b[0m\n",
            "\u001b[34m[13:29:24] src/tree/updater_prune.cc:74: tree pruning end, 1 roots, 12 extra nodes, 2 pruned nodes, max_depth=3\u001b[0m\n",
            "\u001b[34m[17]#011train-error:0.262832#011validation-error:0.260291\u001b[0m\n",
            "\u001b[34m[13:29:24] src/tree/updater_prune.cc:74: tree pruning end, 1 roots, 14 extra nodes, 0 pruned nodes, max_depth=3\u001b[0m\n",
            "\u001b[34m[18]#011train-error:0.261862#011validation-error:0.260999\u001b[0m\n",
            "\u001b[34m[13:29:24] src/tree/updater_prune.cc:74: tree pruning end, 1 roots, 14 extra nodes, 0 pruned nodes, max_depth=3\u001b[0m\n",
            "\u001b[34m[19]#011train-error:0.262065#011validation-error:0.261423\u001b[0m\n",
            "\u001b[34m[13:29:24] src/tree/updater_prune.cc:74: tree pruning end, 1 roots, 14 extra nodes, 0 pruned nodes, max_depth=3\u001b[0m\n",
            "\u001b[34m[20]#011train-error:0.261842#011validation-error:0.260999\u001b[0m\n",
            "\u001b[34m[13:29:24] src/tree/updater_prune.cc:74: tree pruning end, 1 roots, 14 extra nodes, 0 pruned nodes, max_depth=3\u001b[0m\n",
            "\u001b[34m[21]#011train-error:0.261842#011validation-error:0.260716\u001b[0m\n",
            "\u001b[34m[13:29:25] src/tree/updater_prune.cc:74: tree pruning end, 1 roots, 12 extra nodes, 2 pruned nodes, max_depth=3\u001b[0m\n",
            "\u001b[34m[22]#011train-error:0.261842#011validation-error:0.260928\u001b[0m\n",
            "\u001b[34m[13:29:25] src/tree/updater_prune.cc:74: tree pruning end, 1 roots, 12 extra nodes, 2 pruned nodes, max_depth=3\u001b[0m\n",
            "\u001b[34m[23]#011train-error:0.261782#011validation-error:0.261211\u001b[0m\n",
            "\u001b[34m[13:29:25] src/tree/updater_prune.cc:74: tree pruning end, 1 roots, 12 extra nodes, 2 pruned nodes, max_depth=3\u001b[0m\n",
            "\u001b[34m[24]#011train-error:0.261559#011validation-error:0.26114\u001b[0m\n",
            "\u001b[34m[13:29:25] src/tree/updater_prune.cc:74: tree pruning end, 1 roots, 12 extra nodes, 0 pruned nodes, max_depth=3\u001b[0m\n",
            "\u001b[34m[25]#011train-error:0.26164#011validation-error:0.261847\u001b[0m\n",
            "\u001b[34m[13:29:25] src/tree/updater_prune.cc:74: tree pruning end, 1 roots, 14 extra nodes, 0 pruned nodes, max_depth=3\u001b[0m\n",
            "\u001b[34m[26]#011train-error:0.26166#011validation-error:0.261989\u001b[0m\n",
            "\u001b[34m[13:29:25] src/tree/updater_prune.cc:74: tree pruning end, 1 roots, 10 extra nodes, 4 pruned nodes, max_depth=3\u001b[0m\n",
            "\u001b[34m[27]#011train-error:0.261539#011validation-error:0.261423\u001b[0m\n",
            "\u001b[34m[13:29:25] src/tree/updater_prune.cc:74: tree pruning end, 1 roots, 12 extra nodes, 2 pruned nodes, max_depth=3\u001b[0m\n",
            "\u001b[34m[28]#011train-error:0.261135#011validation-error:0.261706\u001b[0m\n",
            "\u001b[34m[13:29:25] src/tree/updater_prune.cc:74: tree pruning end, 1 roots, 10 extra nodes, 4 pruned nodes, max_depth=3\u001b[0m\n",
            "\u001b[34m[29]#011train-error:0.261034#011validation-error:0.261918\u001b[0m\n",
            "\u001b[34m[13:29:25] src/tree/updater_prune.cc:74: tree pruning end, 1 roots, 14 extra nodes, 0 pruned nodes, max_depth=3\u001b[0m\n",
            "\u001b[34m[30]#011train-error:0.261175#011validation-error:0.260716\u001b[0m\n",
            "\u001b[34m[13:29:25] src/tree/updater_prune.cc:74: tree pruning end, 1 roots, 10 extra nodes, 2 pruned nodes, max_depth=3\u001b[0m\n",
            "\u001b[34m[31]#011train-error:0.261034#011validation-error:0.261494\u001b[0m\n",
            "\u001b[34m[13:29:25] src/tree/updater_prune.cc:74: tree pruning end, 1 roots, 8 extra nodes, 4 pruned nodes, max_depth=3\u001b[0m\n",
            "\u001b[34m[32]#011train-error:0.261014#011validation-error:0.261352\u001b[0m\n",
            "\u001b[34m[13:29:25] src/tree/updater_prune.cc:74: tree pruning end, 1 roots, 8 extra nodes, 6 pruned nodes, max_depth=3\u001b[0m\n",
            "\u001b[34m[33]#011train-error:0.261054#011validation-error:0.261352\u001b[0m\n",
            "\u001b[34m[13:29:25] src/tree/updater_prune.cc:74: tree pruning end, 1 roots, 10 extra nodes, 4 pruned nodes, max_depth=3\u001b[0m\n",
            "\u001b[34m[34]#011train-error:0.260589#011validation-error:0.26114\u001b[0m\n",
            "\u001b[34m[13:29:25] src/tree/updater_prune.cc:74: tree pruning end, 1 roots, 12 extra nodes, 2 pruned nodes, max_depth=3\u001b[0m\n",
            "\u001b[34m[35]#011train-error:0.260791#011validation-error:0.261069\u001b[0m\n",
            "\u001b[34m[13:29:25] src/tree/updater_prune.cc:74: tree pruning end, 1 roots, 10 extra nodes, 4 pruned nodes, max_depth=3\u001b[0m\n",
            "\u001b[34m[36]#011train-error:0.260953#011validation-error:0.261352\u001b[0m\n",
            "\u001b[34m[13:29:25] src/tree/updater_prune.cc:74: tree pruning end, 1 roots, 0 extra nodes, 12 pruned nodes, max_depth=0\u001b[0m\n",
            "\u001b[34m[37]#011train-error:0.260953#011validation-error:0.261352\u001b[0m\n",
            "\u001b[34m[13:29:25] src/tree/updater_prune.cc:74: tree pruning end, 1 roots, 0 extra nodes, 12 pruned nodes, max_depth=0\u001b[0m\n",
            "\u001b[34m[38]#011train-error:0.260953#011validation-error:0.261352\u001b[0m\n",
            "\u001b[34m[13:29:25] src/tree/updater_prune.cc:74: tree pruning end, 1 roots, 0 extra nodes, 12 pruned nodes, max_depth=0\u001b[0m\n",
            "\u001b[34m[39]#011train-error:0.260953#011validation-error:0.261352\u001b[0m\n",
            "\u001b[34m[13:29:25] src/tree/updater_prune.cc:74: tree pruning end, 1 roots, 0 extra nodes, 12 pruned nodes, max_depth=0\u001b[0m\n",
            "\u001b[34m[40]#011train-error:0.260953#011validation-error:0.261352\u001b[0m\n",
            "\u001b[34m[13:29:25] src/tree/updater_prune.cc:74: tree pruning end, 1 roots, 0 extra nodes, 12 pruned nodes, max_depth=0\u001b[0m\n",
            "\u001b[34m[41]#011train-error:0.260953#011validation-error:0.261352\u001b[0m\n",
            "\u001b[34m[13:29:25] src/tree/updater_prune.cc:74: tree pruning end, 1 roots, 0 extra nodes, 12 pruned nodes, max_depth=0\u001b[0m\n",
            "\u001b[34m[42]#011train-error:0.260933#011validation-error:0.261352\u001b[0m\n",
            "\u001b[34m[13:29:25] src/tree/updater_prune.cc:74: tree pruning end, 1 roots, 0 extra nodes, 12 pruned nodes, max_depth=0\u001b[0m\n",
            "\u001b[34m[43]#011train-error:0.260933#011validation-error:0.261352\u001b[0m\n",
            "\u001b[34m[13:29:25] src/tree/updater_prune.cc:74: tree pruning end, 1 roots, 0 extra nodes, 12 pruned nodes, max_depth=0\u001b[0m\n",
            "\u001b[34m[44]#011train-error:0.260933#011validation-error:0.261352\u001b[0m\n",
            "\u001b[34m[13:29:25] src/tree/updater_prune.cc:74: tree pruning end, 1 roots, 0 extra nodes, 12 pruned nodes, max_depth=0\u001b[0m\n",
            "\u001b[34m[45]#011train-error:0.260933#011validation-error:0.261352\u001b[0m\n",
            "\u001b[34m[13:29:25] src/tree/updater_prune.cc:74: tree pruning end, 1 roots, 0 extra nodes, 12 pruned nodes, max_depth=0\u001b[0m\n",
            "\u001b[34m[46]#011train-error:0.260933#011validation-error:0.261352\u001b[0m\n",
            "\u001b[34m[13:29:25] src/tree/updater_prune.cc:74: tree pruning end, 1 roots, 0 extra nodes, 12 pruned nodes, max_depth=0\u001b[0m\n",
            "\u001b[34m[47]#011train-error:0.260933#011validation-error:0.261352\u001b[0m\n",
            "\u001b[34m[13:29:25] src/tree/updater_prune.cc:74: tree pruning end, 1 roots, 0 extra nodes, 12 pruned nodes, max_depth=0\u001b[0m\n",
            "\u001b[34m[48]#011train-error:0.260933#011validation-error:0.261352\u001b[0m\n",
            "\u001b[34m[13:29:25] src/tree/updater_prune.cc:74: tree pruning end, 1 roots, 0 extra nodes, 12 pruned nodes, max_depth=0\u001b[0m\n",
            "\u001b[34m[49]#011train-error:0.260933#011validation-error:0.261352\u001b[0m\n",
            "\u001b[34m[13:29:25] src/tree/updater_prune.cc:74: tree pruning end, 1 roots, 0 extra nodes, 12 pruned nodes, max_depth=0\u001b[0m\n",
            "\u001b[34m[50]#011train-error:0.260933#011validation-error:0.261352\u001b[0m\n",
            "\u001b[34m[13:29:25] src/tree/updater_prune.cc:74: tree pruning end, 1 roots, 0 extra nodes, 12 pruned nodes, max_depth=0\u001b[0m\n",
            "\u001b[34m[51]#011train-error:0.260933#011validation-error:0.261352\u001b[0m\n",
            "\u001b[34m[13:29:25] src/tree/updater_prune.cc:74: tree pruning end, 1 roots, 0 extra nodes, 12 pruned nodes, max_depth=0\u001b[0m\n",
            "\u001b[34m[52]#011train-error:0.260933#011validation-error:0.261352\u001b[0m\n",
            "\u001b[34m[13:29:25] src/tree/updater_prune.cc:74: tree pruning end, 1 roots, 0 extra nodes, 12 pruned nodes, max_depth=0\u001b[0m\n",
            "\u001b[34m[53]#011train-error:0.260933#011validation-error:0.261352\u001b[0m\n",
            "\u001b[34m[13:29:25] src/tree/updater_prune.cc:74: tree pruning end, 1 roots, 0 extra nodes, 12 pruned nodes, max_depth=0\u001b[0m\n",
            "\u001b[34m[54]#011train-error:0.260933#011validation-error:0.261352\u001b[0m\n",
            "\u001b[34m[13:29:25] src/tree/updater_prune.cc:74: tree pruning end, 1 roots, 0 extra nodes, 12 pruned nodes, max_depth=0\u001b[0m\n",
            "\u001b[34m[55]#011train-error:0.260933#011validation-error:0.261352\u001b[0m\n",
            "\u001b[34m[13:29:25] src/tree/updater_prune.cc:74: tree pruning end, 1 roots, 0 extra nodes, 12 pruned nodes, max_depth=0\u001b[0m\n",
            "\u001b[34m[56]#011train-error:0.260933#011validation-error:0.261352\u001b[0m\n",
            "\u001b[34m[13:29:25] src/tree/updater_prune.cc:74: tree pruning end, 1 roots, 0 extra nodes, 12 pruned nodes, max_depth=0\u001b[0m\n",
            "\u001b[34m[57]#011train-error:0.260933#011validation-error:0.261352\u001b[0m\n",
            "\u001b[34m[13:29:25] src/tree/updater_prune.cc:74: tree pruning end, 1 roots, 0 extra nodes, 12 pruned nodes, max_depth=0\u001b[0m\n",
            "\u001b[34m[58]#011train-error:0.260933#011validation-error:0.261352\u001b[0m\n",
            "\u001b[34m[13:29:25] src/tree/updater_prune.cc:74: tree pruning end, 1 roots, 0 extra nodes, 12 pruned nodes, max_depth=0\u001b[0m\n",
            "\u001b[34m[59]#011train-error:0.260933#011validation-error:0.261352\u001b[0m\n",
            "\u001b[34m[13:29:25] src/tree/updater_prune.cc:74: tree pruning end, 1 roots, 0 extra nodes, 12 pruned nodes, max_depth=0\u001b[0m\n",
            "\u001b[34m[60]#011train-error:0.260933#011validation-error:0.261352\u001b[0m\n",
            "\u001b[34m[13:29:25] src/tree/updater_prune.cc:74: tree pruning end, 1 roots, 0 extra nodes, 12 pruned nodes, max_depth=0\u001b[0m\n",
            "\u001b[34m[61]#011train-error:0.260933#011validation-error:0.261352\u001b[0m\n",
            "\u001b[34m[13:29:25] src/tree/updater_prune.cc:74: tree pruning end, 1 roots, 0 extra nodes, 12 pruned nodes, max_depth=0\u001b[0m\n",
            "\u001b[34m[62]#011train-error:0.260933#011validation-error:0.261352\u001b[0m\n",
            "\u001b[34m[13:29:25] src/tree/updater_prune.cc:74: tree pruning end, 1 roots, 0 extra nodes, 12 pruned nodes, max_depth=0\u001b[0m\n",
            "\u001b[34m[63]#011train-error:0.260933#011validation-error:0.261352\u001b[0m\n",
            "\u001b[34m[13:29:25] src/tree/updater_prune.cc:74: tree pruning end, 1 roots, 0 extra nodes, 12 pruned nodes, max_depth=0\u001b[0m\n",
            "\u001b[34m[64]#011train-error:0.260933#011validation-error:0.261352\u001b[0m\n",
            "\u001b[34m[13:29:25] src/tree/updater_prune.cc:74: tree pruning end, 1 roots, 0 extra nodes, 12 pruned nodes, max_depth=0\u001b[0m\n",
            "\u001b[34m[65]#011train-error:0.260933#011validation-error:0.261352\u001b[0m\n",
            "\u001b[34m[13:29:25] src/tree/updater_prune.cc:74: tree pruning end, 1 roots, 0 extra nodes, 12 pruned nodes, max_depth=0\u001b[0m\n",
            "\u001b[34m[66]#011train-error:0.260933#011validation-error:0.261352\u001b[0m\n",
            "\u001b[34m[13:29:25] src/tree/updater_prune.cc:74: tree pruning end, 1 roots, 0 extra nodes, 12 pruned nodes, max_depth=0\u001b[0m\n",
            "\u001b[34m[67]#011train-error:0.260933#011validation-error:0.261352\u001b[0m\n",
            "\u001b[34m[13:29:25] src/tree/updater_prune.cc:74: tree pruning end, 1 roots, 0 extra nodes, 12 pruned nodes, max_depth=0\u001b[0m\n",
            "\u001b[34m[68]#011train-error:0.260933#011validation-error:0.261352\u001b[0m\n",
            "\u001b[34m[13:29:25] src/tree/updater_prune.cc:74: tree pruning end, 1 roots, 0 extra nodes, 12 pruned nodes, max_depth=0\u001b[0m\n",
            "\u001b[34m[69]#011train-error:0.260933#011validation-error:0.261352\u001b[0m\n",
            "\u001b[34m[13:29:25] src/tree/updater_prune.cc:74: tree pruning end, 1 roots, 0 extra nodes, 12 pruned nodes, max_depth=0\u001b[0m\n",
            "\u001b[34m[70]#011train-error:0.260933#011validation-error:0.261352\u001b[0m\n",
            "\u001b[34m[13:29:25] src/tree/updater_prune.cc:74: tree pruning end, 1 roots, 0 extra nodes, 12 pruned nodes, max_depth=0\u001b[0m\n",
            "\u001b[34m[71]#011train-error:0.260933#011validation-error:0.261352\u001b[0m\n",
            "\u001b[34m[13:29:25] src/tree/updater_prune.cc:74: tree pruning end, 1 roots, 0 extra nodes, 12 pruned nodes, max_depth=0\u001b[0m\n",
            "\u001b[34m[72]#011train-error:0.260933#011validation-error:0.261352\u001b[0m\n",
            "\u001b[34m[13:29:25] src/tree/updater_prune.cc:74: tree pruning end, 1 roots, 0 extra nodes, 12 pruned nodes, max_depth=0\u001b[0m\n",
            "\u001b[34m[73]#011train-error:0.260933#011validation-error:0.261352\u001b[0m\n",
            "\u001b[34m[13:29:25] src/tree/updater_prune.cc:74: tree pruning end, 1 roots, 0 extra nodes, 12 pruned nodes, max_depth=0\u001b[0m\n",
            "\u001b[34m[74]#011train-error:0.260933#011validation-error:0.261352\u001b[0m\n",
            "\u001b[34m[13:29:25] src/tree/updater_prune.cc:74: tree pruning end, 1 roots, 0 extra nodes, 12 pruned nodes, max_depth=0\u001b[0m\n",
            "\u001b[34m[75]#011train-error:0.260933#011validation-error:0.261352\u001b[0m\n",
            "\u001b[34m[13:29:25] src/tree/updater_prune.cc:74: tree pruning end, 1 roots, 0 extra nodes, 12 pruned nodes, max_depth=0\u001b[0m\n",
            "\u001b[34m[76]#011train-error:0.260933#011validation-error:0.261352\u001b[0m\n",
            "\u001b[34m[13:29:25] src/tree/updater_prune.cc:74: tree pruning end, 1 roots, 0 extra nodes, 12 pruned nodes, max_depth=0\u001b[0m\n",
            "\u001b[34m[77]#011train-error:0.260933#011validation-error:0.261352\u001b[0m\n",
            "\u001b[34m[13:29:25] src/tree/updater_prune.cc:74: tree pruning end, 1 roots, 0 extra nodes, 12 pruned nodes, max_depth=0\u001b[0m\n",
            "\u001b[34m[78]#011train-error:0.260933#011validation-error:0.261352\u001b[0m\n",
            "\u001b[34m[13:29:25] src/tree/updater_prune.cc:74: tree pruning end, 1 roots, 0 extra nodes, 12 pruned nodes, max_depth=0\u001b[0m\n",
            "\u001b[34m[79]#011train-error:0.260933#011validation-error:0.261352\u001b[0m\n",
            "\u001b[34m[13:29:25] src/tree/updater_prune.cc:74: tree pruning end, 1 roots, 0 extra nodes, 12 pruned nodes, max_depth=0\u001b[0m\n",
            "\u001b[34m[80]#011train-error:0.260933#011validation-error:0.261352\u001b[0m\n",
            "\u001b[34m[13:29:25] src/tree/updater_prune.cc:74: tree pruning end, 1 roots, 0 extra nodes, 12 pruned nodes, max_depth=0\u001b[0m\n",
            "\u001b[34m[81]#011train-error:0.260933#011validation-error:0.261352\u001b[0m\n",
            "\u001b[34m[13:29:25] src/tree/updater_prune.cc:74: tree pruning end, 1 roots, 0 extra nodes, 12 pruned nodes, max_depth=0\u001b[0m\n",
            "\u001b[34m[82]#011train-error:0.260933#011validation-error:0.261352\u001b[0m\n",
            "\u001b[34m[13:29:25] src/tree/updater_prune.cc:74: tree pruning end, 1 roots, 0 extra nodes, 12 pruned nodes, max_depth=0\u001b[0m\n",
            "\u001b[34m[83]#011train-error:0.260933#011validation-error:0.261352\u001b[0m\n",
            "\u001b[34m[13:29:25] src/tree/updater_prune.cc:74: tree pruning end, 1 roots, 0 extra nodes, 12 pruned nodes, max_depth=0\u001b[0m\n",
            "\u001b[34m[84]#011train-error:0.260933#011validation-error:0.261352\u001b[0m\n",
            "\u001b[34m[13:29:25] src/tree/updater_prune.cc:74: tree pruning end, 1 roots, 0 extra nodes, 12 pruned nodes, max_depth=0\u001b[0m\n",
            "\u001b[34m[85]#011train-error:0.260933#011validation-error:0.261352\u001b[0m\n",
            "\u001b[34m[13:29:25] src/tree/updater_prune.cc:74: tree pruning end, 1 roots, 0 extra nodes, 12 pruned nodes, max_depth=0\u001b[0m\n",
            "\u001b[34m[86]#011train-error:0.260933#011validation-error:0.261352\u001b[0m\n",
            "\u001b[34m[13:29:25] src/tree/updater_prune.cc:74: tree pruning end, 1 roots, 0 extra nodes, 12 pruned nodes, max_depth=0\u001b[0m\n",
            "\u001b[34m[87]#011train-error:0.260933#011validation-error:0.261352\u001b[0m\n",
            "\u001b[34m[13:29:25] src/tree/updater_prune.cc:74: tree pruning end, 1 roots, 0 extra nodes, 12 pruned nodes, max_depth=0\u001b[0m\n",
            "\u001b[34m[88]#011train-error:0.260933#011validation-error:0.261352\u001b[0m\n",
            "\u001b[34m[13:29:25] src/tree/updater_prune.cc:74: tree pruning end, 1 roots, 0 extra nodes, 12 pruned nodes, max_depth=0\u001b[0m\n",
            "\u001b[34m[89]#011train-error:0.260933#011validation-error:0.261352\u001b[0m\n",
            "\u001b[34m[13:29:25] src/tree/updater_prune.cc:74: tree pruning end, 1 roots, 0 extra nodes, 12 pruned nodes, max_depth=0\u001b[0m\n",
            "\u001b[34m[90]#011train-error:0.260933#011validation-error:0.261352\u001b[0m\n",
            "\u001b[34m[13:29:25] src/tree/updater_prune.cc:74: tree pruning end, 1 roots, 0 extra nodes, 12 pruned nodes, max_depth=0\u001b[0m\n",
            "\u001b[34m[91]#011train-error:0.260933#011validation-error:0.261352\u001b[0m\n",
            "\u001b[34m[13:29:25] src/tree/updater_prune.cc:74: tree pruning end, 1 roots, 0 extra nodes, 12 pruned nodes, max_depth=0\u001b[0m\n",
            "\u001b[34m[92]#011train-error:0.260933#011validation-error:0.261352\u001b[0m\n",
            "\u001b[34m[13:29:25] src/tree/updater_prune.cc:74: tree pruning end, 1 roots, 0 extra nodes, 12 pruned nodes, max_depth=0\u001b[0m\n",
            "\u001b[34m[93]#011train-error:0.260933#011validation-error:0.261352\u001b[0m\n",
            "\u001b[34m[13:29:25] src/tree/updater_prune.cc:74: tree pruning end, 1 roots, 0 extra nodes, 12 pruned nodes, max_depth=0\u001b[0m\n",
            "\u001b[34m[94]#011train-error:0.260933#011validation-error:0.261352\u001b[0m\n",
            "\u001b[34m[13:29:25] src/tree/updater_prune.cc:74: tree pruning end, 1 roots, 0 extra nodes, 12 pruned nodes, max_depth=0\u001b[0m\n",
            "\u001b[34m[95]#011train-error:0.260933#011validation-error:0.261352\u001b[0m\n",
            "\u001b[34m[13:29:25] src/tree/updater_prune.cc:74: tree pruning end, 1 roots, 0 extra nodes, 12 pruned nodes, max_depth=0\u001b[0m\n",
            "\u001b[34m[96]#011train-error:0.260933#011validation-error:0.261352\u001b[0m\n",
            "\u001b[34m[13:29:25] src/tree/updater_prune.cc:74: tree pruning end, 1 roots, 0 extra nodes, 12 pruned nodes, max_depth=0\u001b[0m\n",
            "\u001b[34m[97]#011train-error:0.260933#011validation-error:0.261352\u001b[0m\n",
            "\u001b[34m[13:29:25] src/tree/updater_prune.cc:74: tree pruning end, 1 roots, 0 extra nodes, 12 pruned nodes, max_depth=0\u001b[0m\n",
            "\u001b[34m[98]#011train-error:0.260933#011validation-error:0.261352\u001b[0m\n",
            "\u001b[34m[13:29:25] src/tree/updater_prune.cc:74: tree pruning end, 1 roots, 0 extra nodes, 12 pruned nodes, max_depth=0\u001b[0m\n",
            "\u001b[34m[99]#011train-error:0.260933#011validation-error:0.261352\u001b[0m\n",
            "\n",
            "2023-10-05 13:29:45 Uploading - Uploading generated training model\n",
            "2023-10-05 13:29:45 Completed - Training job completed\n",
            "Training seconds: 112\n",
            "Billable seconds: 112\n"
          ]
        }
      ],
      "source": [
        "xgb.fit({\"train\":input_train,\"validation\":input_validation})"
      ]
    },
    {
      "cell_type": "code",
      "execution_count": null,
      "id": "7302e987",
      "metadata": {
        "id": "7302e987",
        "outputId": "493407dd-d103-41be-f12e-431f5068689d"
      },
      "outputs": [
        {
          "name": "stderr",
          "output_type": "stream",
          "text": [
            "INFO:sagemaker:Creating model with name: xgboost-2023-10-05-13-32-29-634\n",
            "INFO:sagemaker:Creating endpoint-config with name xgboost-2023-10-05-13-32-29-634\n",
            "INFO:sagemaker:Creating endpoint with name xgboost-2023-10-05-13-32-29-634\n"
          ]
        },
        {
          "name": "stdout",
          "output_type": "stream",
          "text": [
            "-------!"
          ]
        }
      ],
      "source": [
        "xgb_deploy=xgb.deploy(initial_instance_count=1,instance_type=\"ml.m4.xlarge\")"
      ]
    },
    {
      "cell_type": "markdown",
      "id": "8Z-wx779v-UJ",
      "metadata": {
        "id": "8Z-wx779v-UJ"
      },
      "source": [
        "Congratulations! You have successfully deployed your AWS SageMaker model. Confirm deployment by heading to the **SageMaker console** >> **Inference** >> **Endpoints**."
      ]
    },
    {
      "cell_type": "markdown",
      "id": "b56d860f",
      "metadata": {},
      "source": [
        "## 🧑‍🍳 Test the SageMaker Inference endpoint"
      ]
    },
    {
      "cell_type": "code",
      "execution_count": null,
      "id": "ff40416b",
      "metadata": {},
      "outputs": [],
      "source": [
        "# Replace the credentials below\n",
        "sagemaker_runtime = boto3.client(\n",
        "    \"runtime.sagemaker\", aws_access_key_id=\"<your_access_key>\",\n",
        "    aws_secret_access_key=\"<your_secret_access_key>\", region_name='us-east-1')\n",
        "\n",
        "# The endpoint name must be unique within \n",
        "# an AWS Region in your AWS account. \n",
        "endpoint_name='<your_endpoint_name>'\n",
        "# Gets inference from the model hosted at the specified endpoint:\n",
        "response = sagemaker_runtime.invoke_endpoint(\n",
        "    EndpointName=endpoint_name, \n",
        "    Body=bytes(' 1., 1., 1., 9., 0., 30., 1., 0., 1., 0.', 'utf-8')\n",
        "    )\n",
        "\n",
        "response['Body'].read().decode('utf-8')"
      ]
    },
    {
      "cell_type": "markdown",
      "id": "80a216be",
      "metadata": {},
      "source": [
        "## 🧹 Delete your endpoint"
      ]
    },
    {
      "cell_type": "markdown",
      "id": "53ba3f80",
      "metadata": {},
      "source": [
        "Remember to delete your endpoint when you are done with this demo to save costs. Delete the endpoint in your notebook and the configuration files:"
      ]
    },
    {
      "cell_type": "code",
      "execution_count": null,
      "id": "59f1ae94",
      "metadata": {},
      "outputs": [],
      "source": [
        "xgb_deploy.delete_endpoint()"
      ]
    },
    {
      "cell_type": "markdown",
      "id": "FxfEQO7BwI9D",
      "metadata": {
        "id": "FxfEQO7BwI9D"
      },
      "source": [
        "See Modelbit's blog for more: https://www.modelbit.com/blog"
      ]
    }
  ],
  "metadata": {
    "colab": {
      "provenance": []
    },
    "kernelspec": {
      "display_name": "conda_python3",
      "language": "python",
      "name": "conda_python3"
    },
    "language_info": {
      "codemirror_mode": {
        "name": "ipython",
        "version": 3
      },
      "file_extension": ".py",
      "mimetype": "text/x-python",
      "name": "python",
      "nbconvert_exporter": "python",
      "pygments_lexer": "ipython3",
      "version": "3.10.12"
    }
  },
  "nbformat": 4,
  "nbformat_minor": 5
}
